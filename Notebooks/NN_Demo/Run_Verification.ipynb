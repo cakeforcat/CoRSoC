{
 "cells": [
  {
   "cell_type": "markdown",
   "id": "ddf0c3d6",
   "metadata": {},
   "source": [
    "# Device Setup"
   ]
  },
  {
   "cell_type": "markdown",
   "id": "9b87ee5d",
   "metadata": {},
   "source": [
    "## Import Libraries"
   ]
  },
  {
   "cell_type": "markdown",
   "id": "f44f18ea",
   "metadata": {},
   "source": [
    "The FINNExampleOverlay handles data transfers between the processing system (controlled directly by this notebook) and the programmable logic. It packs the input data into a format the models will expect, then sends and receives data from the programmable logic via DMAs.<br>\n",
    "get_data contains functions to load test data from .npz files and format it in the required buffer lengths.<br>\n",
    "Numpy is used for data handling. Platform and pynq contain information about the device being used."
   ]
  },
  {
   "cell_type": "code",
   "execution_count": 1,
   "id": "80108686",
   "metadata": {},
   "outputs": [],
   "source": [
    "from driver_base import FINNExampleOverlay\n",
    "import get_data\n",
    "import numpy as np\n",
    "import platform\n",
    "import pynq"
   ]
  },
  {
   "cell_type": "markdown",
   "id": "b516a240",
   "metadata": {},
   "source": [
    "## Get Device Information"
   ]
  },
  {
   "cell_type": "markdown",
   "id": "f3bf11d3",
   "metadata": {},
   "source": [
    "Some extra information about the device, required for the overlay."
   ]
  },
  {
   "cell_type": "code",
   "execution_count": 2,
   "id": "6d5d7582",
   "metadata": {},
   "outputs": [],
   "source": [
    "def get_edge_or_pcie():\n",
    "    cpu = platform.processor()\n",
    "    if cpu in [\"armv7l\", \"aarch64\"]:\n",
    "        return \"edge\"\n",
    "    elif cpu in [\"x86_64\"]:\n",
    "        return \"pcie\"\n",
    "    else:\n",
    "        raise OSError(\"Platform is not supported.\")"
   ]
  },
  {
   "cell_type": "code",
   "execution_count": 3,
   "id": "6c61160b",
   "metadata": {},
   "outputs": [],
   "source": [
    "driver_modes = {\"edge\": \"zynq-iodma\", \"pcie\": \"alveo\"}\n",
    "target_platform = pynq.Device.active_device.name\n",
    "driver_mode = driver_modes[get_edge_or_pcie()]"
   ]
  },
  {
   "cell_type": "markdown",
   "id": "a3e54915",
   "metadata": {},
   "source": [
    "# Run Multi-Layer Perceptron (MLP)"
   ]
  },
  {
   "cell_type": "markdown",
   "id": "8295cdf8",
   "metadata": {},
   "source": [
    "## Get Test Data"
   ]
  },
  {
   "cell_type": "markdown",
   "id": "113f1b9e",
   "metadata": {},
   "source": [
    "The MLP expects a buffer size of 256 and the expected labels are binary values for whether four channels are occupied or not. The data is interleaved so that the iq data is structured in an alternating pattern like [i,q,i,q,i,q,...]. Due to limits with the PYNQ-Z2s storage only 176 MB of data is tested with apposed to the available 40 GB, but this is still 42900 test cases. "
   ]
  },
  {
   "cell_type": "code",
   "execution_count": 4,
   "id": "b6ba86cb",
   "metadata": {},
   "outputs": [],
   "source": [
    "normalized_array, labels = get_data.get_mlp_data()"
   ]
  },
  {
   "cell_type": "code",
   "execution_count": 5,
   "id": "10444110",
   "metadata": {},
   "outputs": [
    {
     "name": "stdout",
     "output_type": "stream",
     "text": [
      "(42900, 1, 512)\n",
      "(42900, 4)\n"
     ]
    }
   ],
   "source": [
    "print(normalized_array.shape)\n",
    "print(labels.shape)"
   ]
  },
  {
   "cell_type": "markdown",
   "id": "56c40509",
   "metadata": {},
   "source": [
    "## Initialise the MLP"
   ]
  },
  {
   "cell_type": "markdown",
   "id": "2e3cb577",
   "metadata": {},
   "source": [
    "The bitfile generated in Vivado contains all the information needed to create the MLP in the programmable logic. The io_shape_dict contains any information about how the data should be formatted for inputs and outputs. The overlay uses the bitfile to instanciate the model in hardware, setting up connections with the DMAs to pass data to it. The model can receive sets of data at up to 100MHz, with an output being produced every 16 sets of input."
   ]
  },
  {
   "cell_type": "code",
   "execution_count": 6,
   "id": "84b0c29e",
   "metadata": {},
   "outputs": [
    {
     "data": {
      "application/javascript": [
       "\n",
       "try {\n",
       "require(['notebook/js/codecell'], function(codecell) {\n",
       "  codecell.CodeCell.options_default.highlight_modes[\n",
       "      'magic_text/x-csrc'] = {'reg':[/^%%microblaze/]};\n",
       "  Jupyter.notebook.events.one('kernel_ready.Kernel', function(){\n",
       "      Jupyter.notebook.get_cells().map(function(cell){\n",
       "          if (cell.cell_type == 'code'){ cell.auto_highlight(); } }) ;\n",
       "  });\n",
       "});\n",
       "} catch (e) {};\n"
      ]
     },
     "metadata": {},
     "output_type": "display_data"
    },
    {
     "data": {
      "application/javascript": [
       "\n",
       "try {\n",
       "require(['notebook/js/codecell'], function(codecell) {\n",
       "  codecell.CodeCell.options_default.highlight_modes[\n",
       "      'magic_text/x-csrc'] = {'reg':[/^%%pybind11/]};\n",
       "  Jupyter.notebook.events.one('kernel_ready.Kernel', function(){\n",
       "      Jupyter.notebook.get_cells().map(function(cell){\n",
       "          if (cell.cell_type == 'code'){ cell.auto_highlight(); } }) ;\n",
       "  });\n",
       "});\n",
       "} catch (e) {};\n"
      ]
     },
     "metadata": {},
     "output_type": "display_data"
    },
    {
     "name": "stdout",
     "output_type": "stream",
     "text": [
      "{'idt': [INT8], 'odt': [BIPOLAR], 'ishape_normal': [(1, 512)], 'oshape_normal': [(1, 4)], 'ishape_folded': [(1, 32, 16)], 'oshape_folded': [(1, 4, 1)], 'ishape_packed': [(1, 32, 16)], 'oshape_packed': [(1, 4, 1)], 'input_dma_name': ['idma0'], 'output_dma_name': ['odma0'], 'number_of_external_weights': 0, 'num_inputs': 1, 'num_outputs': 1}\n"
     ]
    }
   ],
   "source": [
    "bitfile = \"bitfile_final_mlp/finn-accel.bit\"\n",
    "from driver_final_mlp.driver import io_shape_dict\n",
    "mlp = FINNExampleOverlay(bitfile, driver_mode, io_shape_dict,fclk_mhz = 100.0)\n",
    "print(io_shape_dict)"
   ]
  },
  {
   "cell_type": "markdown",
   "id": "5bac1b9d",
   "metadata": {},
   "source": [
    "## Test with a Single Input"
   ]
  },
  {
   "cell_type": "markdown",
   "id": "6b8fa98f",
   "metadata": {},
   "source": [
    "To test the model receiving and predicting with data a single input is sent to the MLP. The input data is convereted to 8 bit integers as this is what it will receive from the rest of the radio."
   ]
  },
  {
   "cell_type": "code",
   "execution_count": 7,
   "id": "15fa9855",
   "metadata": {},
   "outputs": [
    {
     "name": "stdout",
     "output_type": "stream",
     "text": [
      "(1, 512)\n",
      "[0. 0. 0. 1.]\n"
     ]
    }
   ],
   "source": [
    "test_single = normalized_array[1].astype(np.int8)\n",
    "test_single_label = labels[1]\n",
    "\n",
    "print(test_single.shape)\n",
    "print(test_single_label)"
   ]
  },
  {
   "cell_type": "markdown",
   "id": "d2b16468",
   "metadata": {},
   "source": [
    "The overlay provides the execute function to format and send data to the programmable logic. It then waits till it receives an output and returns it."
   ]
  },
  {
   "cell_type": "code",
   "execution_count": 8,
   "id": "4fb8f351",
   "metadata": {},
   "outputs": [],
   "source": [
    "mlp.batch_size = 1\n",
    "accel_out = mlp.execute(test_single)"
   ]
  },
  {
   "cell_type": "markdown",
   "id": "7e8f53d3",
   "metadata": {},
   "source": [
    "Since the model output is a bipolar rather than binary it uses -1 to represent no user in a channel rather than 0 like with the labels."
   ]
  },
  {
   "cell_type": "code",
   "execution_count": 9,
   "id": "be7b470d",
   "metadata": {},
   "outputs": [
    {
     "name": "stdout",
     "output_type": "stream",
     "text": [
      "[[-1. -1. -1. -1.]]\n"
     ]
    }
   ],
   "source": [
    "print(accel_out)"
   ]
  },
  {
   "cell_type": "markdown",
   "id": "4cdbae26",
   "metadata": {},
   "source": [
    "## Test with All Data"
   ]
  },
  {
   "cell_type": "markdown",
   "id": "58c300d2",
   "metadata": {},
   "source": [
    "To verify the model is functioning as expected the full available dataset is executed on it. The bipolar outputs are converted to binary and compared with the labels to get the model accuracy."
   ]
  },
  {
   "cell_type": "code",
   "execution_count": 10,
   "id": "d6c5ea32",
   "metadata": {},
   "outputs": [
    {
     "name": "stdout",
     "output_type": "stream",
     "text": [
      "batch 1 / 20 : total OK 6753 NOK 1827 : accuracy 78.71%\n",
      "batch 2 / 20 : total OK 13413 NOK 3747 : accuracy 78.16%\n",
      "batch 3 / 20 : total OK 19829 NOK 5911 : accuracy 77.04%\n",
      "batch 4 / 20 : total OK 26688 NOK 7632 : accuracy 77.76%\n",
      "batch 5 / 20 : total OK 34326 NOK 8574 : accuracy 80.01%\n",
      "batch 6 / 20 : total OK 42152 NOK 9328 : accuracy 81.88%\n",
      "batch 7 / 20 : total OK 50152 NOK 9908 : accuracy 83.50%\n",
      "batch 8 / 20 : total OK 57316 NOK 11324 : accuracy 83.50%\n",
      "batch 9 / 20 : total OK 64179 NOK 13041 : accuracy 83.11%\n",
      "batch 10 / 20 : total OK 69848 NOK 15952 : accuracy 81.41%\n",
      "batch 11 / 20 : total OK 75736 NOK 18644 : accuracy 80.25%\n",
      "batch 12 / 20 : total OK 83730 NOK 19230 : accuracy 81.32%\n",
      "batch 13 / 20 : total OK 91590 NOK 19950 : accuracy 82.11%\n",
      "batch 14 / 20 : total OK 99262 NOK 20858 : accuracy 82.64%\n",
      "batch 15 / 20 : total OK 105000 NOK 23700 : accuracy 81.59%\n",
      "batch 16 / 20 : total OK 108335 NOK 28945 : accuracy 78.92%\n",
      "batch 17 / 20 : total OK 114630 NOK 31230 : accuracy 78.59%\n",
      "batch 18 / 20 : total OK 122586 NOK 31854 : accuracy 79.37%\n",
      "batch 19 / 20 : total OK 129035 NOK 33985 : accuracy 79.15%\n",
      "batch 20 / 20 : total OK 135079 NOK 36521 : accuracy 78.72%\n",
      "Final accuracy: 78.72%\n"
     ]
    }
   ],
   "source": [
    "#split the input data into 20 equally sized batches\n",
    "batch_size = 2145\n",
    "mlp.batch_size = batch_size\n",
    "(test_imgs, test_labels) = (normalized_array.astype(np.int8),labels)\n",
    "total = test_imgs.shape[0]\n",
    "n_batches = total//batch_size\n",
    "test_imgs = test_imgs.reshape(n_batches,batch_size,512)\n",
    "test_labels = test_labels.reshape(n_batches,batch_size,4)\n",
    "\n",
    "#loop through the batches and execute on the MLP\n",
    "ok = 0\n",
    "nok = 0\n",
    "for i in range(n_batches):\n",
    "    inp = test_imgs[i]\n",
    "    exp = test_labels[i].astype(np.float32)\n",
    "    out = mlp.execute(inp)\n",
    "    out = [(x+1)/2 for x in out.flatten()]\n",
    "    ok += np.count_nonzero(out == exp.flatten())\n",
    "    nok += np.count_nonzero(out != exp.flatten())\n",
    "    acc = 100.0 * ok / (ok+nok)\n",
    "    print(\"batch %d / %d : total OK %d NOK %d : accuracy %.2f%%\" % (i + 1, n_batches, ok, nok,acc))\n",
    "    \n",
    "acc = 100.0 * ok / (ok+nok)\n",
    "print(\"Final accuracy: {:.2f}%\".format(acc))"
   ]
  },
  {
   "cell_type": "code",
   "execution_count": 11,
   "id": "5782da8e",
   "metadata": {},
   "outputs": [
    {
     "data": {
      "text/plain": [
       "{'runtime[ms]': 2.2706985473632812,\n",
       " 'throughput[images/s]': 944643.2255354893,\n",
       " 'DRAM_in_bandwidth[MB/s]': 483.65733147417046,\n",
       " 'DRAM_out_bandwidth[MB/s]': 3.7785729021419567,\n",
       " 'fclk[mhz]': 100.0,\n",
       " 'batch_size': 2145,\n",
       " 'fold_input[ms]': 0.11682510375976562,\n",
       " 'pack_input[ms]': 0.10251998901367188,\n",
       " 'copy_input_data_to_device[ms]': 6.504535675048828,\n",
       " 'copy_output_data_from_device[ms]': 0.29277801513671875,\n",
       " 'unpack_output[ms]': 3247.3292350769043,\n",
       " 'unfold_output[ms]': 0.07557868957519531}"
      ]
     },
     "execution_count": 11,
     "metadata": {},
     "output_type": "execute_result"
    }
   ],
   "source": [
    "mlp.throughput_test()"
   ]
  },
  {
   "cell_type": "markdown",
   "id": "512b9e1e",
   "metadata": {},
   "source": [
    "# Run Convolutional Neural Network (CNN)"
   ]
  },
  {
   "cell_type": "markdown",
   "id": "95a0769d",
   "metadata": {},
   "source": [
    "## Get Test Data"
   ]
  },
  {
   "cell_type": "markdown",
   "id": "122b9c8e",
   "metadata": {},
   "source": [
    "The CNN expects a buffer size of 2 by 16 by 16 and the expected labels are binary values for whether four channels are occupied or not. The iq samples are kept seperate for the CNN, with each being input as 16 by 16 array. Due to limits with the PYNQ-Z2s storage only 176 MB of data is tested with apposed to the available 40GB, but this is still 42900 test cases. "
   ]
  },
  {
   "cell_type": "code",
   "execution_count": 12,
   "id": "4d1c3478",
   "metadata": {},
   "outputs": [],
   "source": [
    "normalized_array, labels = get_data.get_cnn_data()"
   ]
  },
  {
   "cell_type": "code",
   "execution_count": 13,
   "id": "e7589a8e",
   "metadata": {},
   "outputs": [
    {
     "name": "stdout",
     "output_type": "stream",
     "text": [
      "(42900, 1, 16, 16, 2)\n",
      "(42900, 4)\n"
     ]
    }
   ],
   "source": [
    "print(normalized_array.shape)\n",
    "print(labels.shape)"
   ]
  },
  {
   "cell_type": "markdown",
   "id": "4f6ecc2d",
   "metadata": {},
   "source": [
    "## Initialise the CNN in Hardware"
   ]
  },
  {
   "cell_type": "markdown",
   "id": "8d983059",
   "metadata": {},
   "source": [
    "The bitfile generated in Vivado contains all the information needed to create the MLP in the programmable logic. The io_shape_dict contains any information about how the data should be formatted for inputs and outputs. The overlay uses the bitfile to instanciate the model in hardware, setting up connections with the DMAs to pass data to it. The model can receive sets of data at up to 100MHz, with an output being produced every 16 sets of input."
   ]
  },
  {
   "cell_type": "code",
   "execution_count": 14,
   "id": "3c26de33",
   "metadata": {},
   "outputs": [],
   "source": [
    "bitfile = \"bitfile_final_cnn/finn-accel.bit\"\n",
    "from driver_final_cnn.driver import io_shape_dict\n",
    "cnn = FINNExampleOverlay(bitfile, driver_mode, io_shape_dict,fclk_mhz = 100.0)"
   ]
  },
  {
   "cell_type": "markdown",
   "id": "8e76fc70",
   "metadata": {},
   "source": [
    "## Test with a Single Input"
   ]
  },
  {
   "cell_type": "markdown",
   "id": "354c1a60",
   "metadata": {},
   "source": [
    "To test the model receiving and predicting with data a single input is sent to the CNN. The input data is convereted to 8 bit integers as this is what it will receive from the rest of the radio."
   ]
  },
  {
   "cell_type": "code",
   "execution_count": 15,
   "id": "af0a8a6e",
   "metadata": {},
   "outputs": [
    {
     "name": "stdout",
     "output_type": "stream",
     "text": [
      "(1, 16, 16, 2)\n",
      "[0. 0. 0. 1.]\n"
     ]
    }
   ],
   "source": [
    "test_single = normalized_array[1].astype(np.int8)\n",
    "test_single_label = labels[1]\n",
    "\n",
    "print(test_single.shape)\n",
    "print(test_single_label)\n"
   ]
  },
  {
   "cell_type": "markdown",
   "id": "d6f8df80",
   "metadata": {},
   "source": [
    "The overlay provides the execute function to format and send data to the programmable logic. It then waits till it receives an output and returns it."
   ]
  },
  {
   "cell_type": "code",
   "execution_count": 16,
   "id": "6ecf6ee4",
   "metadata": {},
   "outputs": [],
   "source": [
    "cnn.batch_size = 1\n",
    "accel_out = cnn.execute(test_single)"
   ]
  },
  {
   "cell_type": "markdown",
   "id": "ffe55776",
   "metadata": {},
   "source": [
    "Since the model output is a bipolar rather than binary it uses -1 to represent no user in a channel rather than 0 like with the labels."
   ]
  },
  {
   "cell_type": "code",
   "execution_count": 17,
   "id": "1e8b3f29",
   "metadata": {},
   "outputs": [
    {
     "name": "stdout",
     "output_type": "stream",
     "text": [
      "[[-1. -1. -1.  1.]]\n"
     ]
    }
   ],
   "source": [
    "print(accel_out)"
   ]
  },
  {
   "cell_type": "markdown",
   "id": "835f7a5d",
   "metadata": {},
   "source": [
    "## Test with All Data"
   ]
  },
  {
   "cell_type": "markdown",
   "id": "66ac8aee",
   "metadata": {},
   "source": [
    "To verify the model is functioning as expected the full available dataset is executed on it. The bipolar outputs are converted to binary and compared with the labels to get the model accuracy."
   ]
  },
  {
   "cell_type": "code",
   "execution_count": 18,
   "id": "4f5f526d",
   "metadata": {},
   "outputs": [
    {
     "name": "stdout",
     "output_type": "stream",
     "text": [
      "batch 1 / 20 : total OK 6690 NOK 1890 : accuracy 77.97%\n",
      "batch 2 / 20 : total OK 13476 NOK 3684 : accuracy 78.53%\n",
      "batch 3 / 20 : total OK 20583 NOK 5157 : accuracy 79.97%\n",
      "batch 4 / 20 : total OK 28104 NOK 6216 : accuracy 81.89%\n",
      "batch 5 / 20 : total OK 36336 NOK 6564 : accuracy 84.70%\n",
      "batch 6 / 20 : total OK 44711 NOK 6769 : accuracy 86.85%\n",
      "batch 7 / 20 : total OK 53196 NOK 6864 : accuracy 88.57%\n",
      "batch 8 / 20 : total OK 59916 NOK 8724 : accuracy 87.29%\n",
      "batch 9 / 20 : total OK 65984 NOK 11236 : accuracy 85.45%\n",
      "batch 10 / 20 : total OK 71712 NOK 14088 : accuracy 83.58%\n",
      "batch 11 / 20 : total OK 77596 NOK 16784 : accuracy 82.22%\n",
      "batch 12 / 20 : total OK 86105 NOK 16855 : accuracy 83.63%\n",
      "batch 13 / 20 : total OK 94550 NOK 16990 : accuracy 84.77%\n",
      "batch 14 / 20 : total OK 102823 NOK 17297 : accuracy 85.60%\n",
      "batch 15 / 20 : total OK 109039 NOK 19661 : accuracy 84.72%\n",
      "batch 16 / 20 : total OK 112756 NOK 24524 : accuracy 82.14%\n",
      "batch 17 / 20 : total OK 119507 NOK 26353 : accuracy 81.93%\n",
      "batch 18 / 20 : total OK 128051 NOK 26389 : accuracy 82.91%\n",
      "batch 19 / 20 : total OK 134782 NOK 28238 : accuracy 82.68%\n",
      "batch 20 / 20 : total OK 141038 NOK 30562 : accuracy 82.19%\n",
      "Final accuracy: 82.19%\n"
     ]
    }
   ],
   "source": [
    "batch_size = 2145\n",
    "cnn.batch_size = batch_size\n",
    "(test_imgs, test_labels) = (normalized_array.astype(np.int8),labels)\n",
    "\n",
    "ok = 0\n",
    "nok = 0\n",
    "n_batches = test_imgs.shape[0]//batch_size\n",
    "total = batch_size*n_batches\n",
    "\n",
    "test_imgs = test_imgs.reshape(n_batches,batch_size,16,16,2)\n",
    "test_labels = test_labels.reshape(n_batches,batch_size,4)\n",
    "\n",
    "for i in range(n_batches):\n",
    "    inp = test_imgs[i]\n",
    "    exp = test_labels[i].astype(np.float32)\n",
    "    out = cnn.execute(inp)\n",
    "    out = [(x+1)/2 for x in out.flatten()]\n",
    "    ok += np.count_nonzero(out == exp.flatten())\n",
    "    nok += np.count_nonzero(out != exp.flatten())\n",
    "    acc = 100.0 * ok / (ok+nok)\n",
    "    print(\"batch %d / %d : total OK %d NOK %d : accuracy %.2f%%\" % (i + 1, n_batches, ok, nok,acc))\n",
    "\n",
    "acc = 100.0 * ok / (ok+nok)\n",
    "print(\"Final accuracy: {:.2f}%\".format(acc))"
   ]
  },
  {
   "cell_type": "code",
   "execution_count": 19,
   "id": "79948886",
   "metadata": {},
   "outputs": [
    {
     "data": {
      "text/plain": [
       "{'runtime[ms]': 10.96200942993164,\n",
       " 'throughput[images/s]': 195675.80321023098,\n",
       " 'DRAM_in_bandwidth[MB/s]': 100.18601124363825,\n",
       " 'DRAM_out_bandwidth[MB/s]': 0.7827032128409238,\n",
       " 'fclk[mhz]': 100.0,\n",
       " 'batch_size': 2145,\n",
       " 'fold_input[ms]': 0.1163482666015625,\n",
       " 'pack_input[ms]': 0.09512901306152344,\n",
       " 'copy_input_data_to_device[ms]': 6.750822067260742,\n",
       " 'copy_output_data_from_device[ms]': 0.3414154052734375,\n",
       " 'unpack_output[ms]': 3181.0953617095947,\n",
       " 'unfold_output[ms]': 0.08153915405273438}"
      ]
     },
     "execution_count": 19,
     "metadata": {},
     "output_type": "execute_result"
    }
   ],
   "source": [
    "cnn.throughput_test()"
   ]
  }
 ],
 "metadata": {
  "kernelspec": {
   "display_name": "Python 3 (ipykernel)",
   "language": "python",
   "name": "python3"
  },
  "language_info": {
   "codemirror_mode": {
    "name": "ipython",
    "version": 3
   },
   "file_extension": ".py",
   "mimetype": "text/x-python",
   "name": "python",
   "nbconvert_exporter": "python",
   "pygments_lexer": "ipython3",
   "version": "3.10.4"
  }
 },
 "nbformat": 4,
 "nbformat_minor": 5
}
