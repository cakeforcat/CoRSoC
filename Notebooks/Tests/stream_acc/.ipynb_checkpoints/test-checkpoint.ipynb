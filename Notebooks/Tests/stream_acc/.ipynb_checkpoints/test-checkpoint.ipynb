{
 "cells": [
  {
   "cell_type": "code",
   "execution_count": 1,
   "id": "9d9aa2a7",
   "metadata": {},
   "outputs": [],
   "source": [
    "# Python NumPy & PNQY library\n",
    "import numpy as np \n",
    "from pynq import allocate\n",
    "from pynq import Overlay"
   ]
  },
  {
   "cell_type": "code",
   "execution_count": 3,
   "id": "33c8f7a3",
   "metadata": {},
   "outputs": [
    {
     "data": {
      "application/javascript": [
       "\n",
       "try {\n",
       "require(['notebook/js/codecell'], function(codecell) {\n",
       "  codecell.CodeCell.options_default.highlight_modes[\n",
       "      'magic_text/x-csrc'] = {'reg':[/^%%microblaze/]};\n",
       "  Jupyter.notebook.events.one('kernel_ready.Kernel', function(){\n",
       "      Jupyter.notebook.get_cells().map(function(cell){\n",
       "          if (cell.cell_type == 'code'){ cell.auto_highlight(); } }) ;\n",
       "  });\n",
       "});\n",
       "} catch (e) {};\n"
      ]
     },
     "metadata": {},
     "output_type": "display_data"
    },
    {
     "data": {
      "application/javascript": [
       "\n",
       "try {\n",
       "require(['notebook/js/codecell'], function(codecell) {\n",
       "  codecell.CodeCell.options_default.highlight_modes[\n",
       "      'magic_text/x-csrc'] = {'reg':[/^%%pybind11/]};\n",
       "  Jupyter.notebook.events.one('kernel_ready.Kernel', function(){\n",
       "      Jupyter.notebook.get_cells().map(function(cell){\n",
       "          if (cell.cell_type == 'code'){ cell.auto_highlight(); } }) ;\n",
       "  });\n",
       "});\n",
       "} catch (e) {};\n"
      ]
     },
     "metadata": {},
     "output_type": "display_data"
    }
   ],
   "source": [
    "# Download bistream & parse HWH for IPI block diagram\n",
    "ol = Overlay(\"design_1.bit\") # hwh is parsed here \n",
    "\n",
    "# Interrogate HWH & display information about design\n",
    "ol?"
   ]
  },
  {
   "cell_type": "code",
   "execution_count": 4,
   "id": "5039b9b6",
   "metadata": {},
   "outputs": [],
   "source": [
    "# Assign IP to more convienient alias\n",
    "dma = ol.axi_dma"
   ]
  },
  {
   "cell_type": "code",
   "execution_count": 5,
   "id": "6c14ec66",
   "metadata": {},
   "outputs": [],
   "source": [
    "# Set up input and output buffers \n",
    "input_buffer = allocate(shape=(100,), dtype=np.uint32) \n",
    "output_buffer = allocate(shape=(100,), dtype=np.uint32)"
   ]
  },
  {
   "cell_type": "code",
   "execution_count": 7,
   "id": "509b1f88",
   "metadata": {},
   "outputs": [],
   "source": [
    "# Define contents of i/p buffer\n",
    "for i in range(100): \n",
    "    input_buffer[i] = 1 \n",
    "    input_buffer"
   ]
  },
  {
   "cell_type": "code",
   "execution_count": 11,
   "id": "ad63d69d",
   "metadata": {},
   "outputs": [],
   "source": [
    "# Perform exchange of data w/ DMA, as s_axis & m_axis of IP core is conn to DMA\n",
    "dma.sendchannel.transfer(input_buffer) \n",
    "dma.recvchannel.transfer(output_buffer) \n",
    "dma.sendchannel.wait() \n",
    "dma.recvchannel.wait()"
   ]
  },
  {
   "cell_type": "code",
   "execution_count": 12,
   "id": "f1239b32",
   "metadata": {},
   "outputs": [
    {
     "data": {
      "text/plain": [
       "PynqBuffer([  2,   3,   4,   5,   7,   7,   8,   9,  10,  11,  12,  13,\n",
       "             14,  15,  16,  17,  18,  19,  20,  21,  22,  23,  24,  25,\n",
       "             26,  27,  28,  29,  30,  31,  32,  33,  34,  35,  36,  37,\n",
       "             38,  39,  40,  41,  42,  43,  44,  45,  46,  47,  48,  49,\n",
       "             50,  51,  52,  53,  54,  55,  56,  57,  58,  59,  60,  61,\n",
       "             62,  63,  64,  65,  66,  67,  68,  69,  70,  71,  72,  73,\n",
       "             74,  75,  76,  77,  78,  79,  80,  81,  82,  83,  84,  85,\n",
       "             86,  87,  88,  89,  90,  91,  92,  93,  94,  95,  96,  97,\n",
       "             98,  99, 100, 100], dtype=uint32)"
      ]
     },
     "execution_count": 12,
     "metadata": {},
     "output_type": "execute_result"
    }
   ],
   "source": [
    "# Display data created by IP core and sent back to DMA\n",
    "output_buffer"
   ]
  },
  {
   "cell_type": "code",
   "execution_count": 14,
   "id": "6724ef5d",
   "metadata": {},
   "outputs": [
    {
     "name": "stdout",
     "output_type": "stream",
     "text": [
      "322 µs ± 127 ns per loop (mean ± std. dev. of 7 runs, 1,000 loops each)\n"
     ]
    }
   ],
   "source": [
    "# Measure time taken by hw operator\n",
    "%%timeit \n",
    "dma.sendchannel.transfer(input_buffer) \n",
    "dma.recvchannel.transfer(output_buffer) \n",
    "dma.sendchannel.wait() \n",
    "dma.recvchannel.wait()"
   ]
  }
 ],
 "metadata": {
  "kernelspec": {
   "display_name": "Python 3 (ipykernel)",
   "language": "python",
   "name": "python3"
  },
  "language_info": {
   "codemirror_mode": {
    "name": "ipython",
    "version": 3
   },
   "file_extension": ".py",
   "mimetype": "text/x-python",
   "name": "python",
   "nbconvert_exporter": "python",
   "pygments_lexer": "ipython3",
   "version": "3.9.19"
  }
 },
 "nbformat": 4,
 "nbformat_minor": 5
}
