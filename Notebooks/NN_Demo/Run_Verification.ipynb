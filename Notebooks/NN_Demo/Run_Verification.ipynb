{
 "cells": [
  {
   "cell_type": "markdown",
   "id": "ddf0c3d6",
   "metadata": {},
   "source": [
    "# Device Setup"
   ]
  },
  {
   "cell_type": "markdown",
   "id": "9b87ee5d",
   "metadata": {},
   "source": [
    "## Import Libraries"
   ]
  },
  {
   "cell_type": "markdown",
   "id": "f44f18ea",
   "metadata": {},
   "source": [
    "The FINNExampleOverlay handles data transfers between the processing system (controlled directly by this notebook) and the programmable logic. It packs the input data into a format the models will expect, then sends and receives data from the programmable logic via DMAs.<br>\n",
    "get_data contains functions to load test data from .npz files and format it in the required buffer lengths.<br>\n",
    "Numpy is used for data handling. Platform and pynq contain information about the device being used."
   ]
  },
  {
   "cell_type": "code",
   "execution_count": null,
   "id": "80108686",
   "metadata": {},
   "outputs": [],
   "source": [
    "from driver_base import FINNExampleOverlay\n",
    "import get_data\n",
    "import numpy as np\n",
    "import platform\n",
    "import pynq"
   ]
  },
  {
   "cell_type": "markdown",
   "id": "b516a240",
   "metadata": {},
   "source": [
    "## Get Device Information"
   ]
  },
  {
   "cell_type": "markdown",
   "id": "f3bf11d3",
   "metadata": {},
   "source": [
    "Some extra information about the device, required for the overlay."
   ]
  },
  {
   "cell_type": "code",
   "execution_count": 4,
   "id": "6d5d7582",
   "metadata": {},
   "outputs": [],
   "source": [
    "def get_edge_or_pcie():\n",
    "    cpu = platform.processor()\n",
    "    if cpu in [\"armv7l\", \"aarch64\"]:\n",
    "        return \"edge\"\n",
    "    elif cpu in [\"x86_64\"]:\n",
    "        return \"pcie\"\n",
    "    else:\n",
    "        raise OSError(\"Platform is not supported.\")"
   ]
  },
  {
   "cell_type": "code",
   "execution_count": null,
   "id": "6c61160b",
   "metadata": {},
   "outputs": [],
   "source": [
    "driver_modes = {\"edge\": \"zynq-iodma\", \"pcie\": \"alveo\"}\n",
    "target_platform = pynq.Device.active_device.name\n",
    "driver_mode = driver_modes[get_edge_or_pcie()]"
   ]
  },
  {
   "cell_type": "markdown",
   "id": "a3e54915",
   "metadata": {},
   "source": [
    "# Run Multi-Layer Perceptron (MLP)"
   ]
  },
  {
   "cell_type": "markdown",
   "id": "8295cdf8",
   "metadata": {},
   "source": [
    "## Get Test Data"
   ]
  },
  {
   "cell_type": "markdown",
   "id": "113f1b9e",
   "metadata": {},
   "source": [
    "The MLP expects a buffer size of ____ and the expected labels are binary values for whether four channels are occupied or not. The data is interwoven so that the iq data is structured in an alternating pattern like [i,q,i,q,i,q,...]. Due to limits with the PYNQ-Z2s storage only ___MB of data is tested with apposed to the available 40GB, but this is still 85800 test cases. "
   ]
  },
  {
   "cell_type": "code",
   "execution_count": 4,
   "id": "b6ba86cb",
   "metadata": {},
   "outputs": [],
   "source": [
    "normalized_array, labels = get_data.get_mlp_data()"
   ]
  },
  {
   "cell_type": "code",
   "execution_count": 5,
   "id": "10444110",
   "metadata": {},
   "outputs": [
    {
     "name": "stdout",
     "output_type": "stream",
     "text": [
      "(85800, 1, 256)\n",
      "(85800, 4)\n"
     ]
    }
   ],
   "source": [
    "print(normalized_array.shape)\n",
    "print(labels.shape)"
   ]
  },
  {
   "cell_type": "markdown",
   "id": "56c40509",
   "metadata": {},
   "source": [
    "## Initialise the MLP"
   ]
  },
  {
   "cell_type": "markdown",
   "id": "2e3cb577",
   "metadata": {},
   "source": [
    "The bitfile generated in Vivado contains all the information needed to create the MLP in the programmable logic. The io_shape_dict contains any information about how the data should be formatted for inputs and outputs. The overlay uses the bitfile to instanciate the model in hardware, setting up connections with the DMAs to pass data to it. The model can receive sets of data at up to 100MHz, with an output being produced every 16 sets of input."
   ]
  },
  {
   "cell_type": "code",
   "execution_count": null,
   "id": "84b0c29e",
   "metadata": {},
   "outputs": [
    {
     "data": {
      "application/javascript": "\ntry {\nrequire(['notebook/js/codecell'], function(codecell) {\n  codecell.CodeCell.options_default.highlight_modes[\n      'magic_text/x-csrc'] = {'reg':[/^%%microblaze/]};\n  Jupyter.notebook.events.one('kernel_ready.Kernel', function(){\n      Jupyter.notebook.get_cells().map(function(cell){\n          if (cell.cell_type == 'code'){ cell.auto_highlight(); } }) ;\n  });\n});\n} catch (e) {};\n"
     },
     "metadata": {},
     "output_type": "display_data"
    },
    {
     "data": {
      "application/javascript": "\ntry {\nrequire(['notebook/js/codecell'], function(codecell) {\n  codecell.CodeCell.options_default.highlight_modes[\n      'magic_text/x-csrc'] = {'reg':[/^%%pybind11/]};\n  Jupyter.notebook.events.one('kernel_ready.Kernel', function(){\n      Jupyter.notebook.get_cells().map(function(cell){\n          if (cell.cell_type == 'code'){ cell.auto_highlight(); } }) ;\n  });\n});\n} catch (e) {};\n"
     },
     "metadata": {},
     "output_type": "display_data"
    }
   ],
   "source": [
    "bitfile = \"bitfile_mlp/finn-accel.bit\"\n",
    "from driver_mlp.driver import io_shape_dict\n",
    "mlp = FINNExampleOverlay(bitfile, driver_mode, io_shape_dict,fclk_mhz = 100.0)\n",
    "print(io_shape_dict)"
   ]
  },
  {
   "cell_type": "markdown",
   "id": "5bac1b9d",
   "metadata": {},
   "source": [
    "## Test with a Single Input"
   ]
  },
  {
   "cell_type": "markdown",
   "id": "6b8fa98f",
   "metadata": {},
   "source": [
    "To test the model receiving and predicting with data a single input is sent to the MLP. The input data is convereted to 8 bit integers as this is what it will receive from the rest of the radio."
   ]
  },
  {
   "cell_type": "code",
   "execution_count": null,
   "id": "15fa9855",
   "metadata": {},
   "outputs": [
    {
     "name": "stdout",
     "output_type": "stream",
     "text": [
      "(1, 256)\n",
      "[0. 0. 0. 1.]\n"
     ]
    }
   ],
   "source": [
    "test_single = normalized_array[1].astype(np.int8)\n",
    "test_single_label = labels[1]\n",
    "\n",
    "print(test_single.shape)\n",
    "print(test_single_label)"
   ]
  },
  {
   "cell_type": "markdown",
   "id": "d2b16468",
   "metadata": {},
   "source": [
    "The overlay provides the execute function to format and send data to the programmable logic. It then waits till it receives an output and returns it."
   ]
  },
  {
   "cell_type": "code",
   "execution_count": null,
   "id": "4fb8f351",
   "metadata": {},
   "outputs": [],
   "source": [
    "mlp.batch_size = 1\n",
    "accel_out = mlp.execute(test_single)"
   ]
  },
  {
   "cell_type": "markdown",
   "id": "7e8f53d3",
   "metadata": {},
   "source": [
    "Since the model output is a bipolar rather than binary it uses -1 to represent no user in a channel rather than 0 like with the labels."
   ]
  },
  {
   "cell_type": "code",
   "execution_count": 9,
   "id": "be7b470d",
   "metadata": {},
   "outputs": [
    {
     "name": "stdout",
     "output_type": "stream",
     "text": [
      "[[-1. -1.  1.  1.]]\n"
     ]
    }
   ],
   "source": [
    "print(accel_out)"
   ]
  },
  {
   "cell_type": "markdown",
   "id": "4cdbae26",
   "metadata": {},
   "source": [
    "## Test with All Data"
   ]
  },
  {
   "cell_type": "markdown",
   "id": "58c300d2",
   "metadata": {},
   "source": [
    "To verify the model is functioning as expected the full available dataset is executed on it. The bipolar outputs are converted to binary and compared with the labels to get the model accuracy."
   ]
  },
  {
   "cell_type": "code",
   "execution_count": null,
   "id": "d6c5ea32",
   "metadata": {},
   "outputs": [
    {
     "name": "stdout",
     "output_type": "stream",
     "text": [
      "batch 1 / 20 : total OK 13529 NOK 3631 : accuracy 78.840326%\n",
      "batch 2 / 20 : total OK 26739 NOK 7581 : accuracy 77.910839%\n",
      "batch 3 / 20 : total OK 38519 NOK 12961 : accuracy 74.823232%\n",
      "batch 4 / 20 : total OK 51410 NOK 17230 : accuracy 74.898019%\n",
      "batch 5 / 20 : total OK 66567 NOK 19233 : accuracy 77.583916%\n",
      "batch 6 / 20 : total OK 82146 NOK 20814 : accuracy 79.784382%\n",
      "batch 7 / 20 : total OK 98132 NOK 21988 : accuracy 81.694972%\n",
      "batch 8 / 20 : total OK 113933 NOK 23347 : accuracy 82.993153%\n",
      "batch 9 / 20 : total OK 129634 NOK 24806 : accuracy 83.938099%\n",
      "batch 10 / 20 : total OK 142931 NOK 28669 : accuracy 83.293124%\n",
      "batch 11 / 20 : total OK 156299 NOK 32461 : accuracy 82.803030%\n",
      "batch 12 / 20 : total OK 172448 NOK 33472 : accuracy 83.745144%\n",
      "batch 13 / 20 : total OK 188366 NOK 34714 : accuracy 84.438766%\n",
      "batch 14 / 20 : total OK 203395 NOK 36845 : accuracy 84.663253%\n",
      "batch 15 / 20 : total OK 213430 NOK 43970 : accuracy 82.917638%\n",
      "batch 16 / 20 : total OK 217515 NOK 57045 : accuracy 79.223121%\n",
      "batch 17 / 20 : total OK 229305 NOK 62415 : accuracy 78.604484%\n",
      "batch 18 / 20 : total OK 245585 NOK 63295 : accuracy 79.508223%\n",
      "batch 19 / 20 : total OK 258566 NOK 67474 : accuracy 79.304993%\n",
      "batch 20 / 20 : total OK 270753 NOK 72447 : accuracy 78.890734%\n",
      "Final accuracy: 78.89%\n"
     ]
    }
   ],
   "source": [
    "#split the input data into 20 equally sized batches\n",
    "batch_size = 4290\n",
    "mlp.batch_size = batch_size\n",
    "(test_imgs, test_labels) = (normalized_array.astype(np.int8),labels)\n",
    "total = test_imgs.shape[0]\n",
    "n_batches = total//batch_size\n",
    "test_imgs = test_imgs.reshape(n_batches,batch_size,256)\n",
    "test_labels = test_labels.reshape(n_batches,batch_size,4)\n",
    "\n",
    "#loop through the batches and execute on the MLP\n",
    "ok = 0\n",
    "nok = 0\n",
    "for i in range(n_batches):\n",
    "    inp = test_imgs[i]\n",
    "    exp = test_labels[i].astype(np.float32)\n",
    "    out = mlp.execute(inp)\n",
    "    out = [(x+1)/2 for x in out.flatten()]\n",
    "    ok += np.count_nonzero(out == exp.flatten())\n",
    "    nok += np.count_nonzero(out != exp.flatten())\n",
    "    acc = 100.0 * ok / (ok+nok)\n",
    "    print(\"batch %d / %d : total OK %d NOK %d : accuracy {:.2f}%%\" % (i + 1, n_batches, ok, nok,acc))\n",
    "    \n",
    "acc = 100.0 * ok / (ok+nok)\n",
    "print(\"Final accuracy: {:.2f}%\".format(acc))"
   ]
  },
  {
   "cell_type": "markdown",
   "id": "512b9e1e",
   "metadata": {},
   "source": [
    "# Run Convolutional Neural Network (CNN)"
   ]
  },
  {
   "cell_type": "markdown",
   "id": "95a0769d",
   "metadata": {},
   "source": [
    "## Get Test Data"
   ]
  },
  {
   "cell_type": "markdown",
   "id": "122b9c8e",
   "metadata": {},
   "source": [
    "The CNN expects a buffer size of ____ and the expected labels are binary values for whether four channels are occupied or not. The iq samples are kept seperate for the CNN, with each being input as 16 by 16 array. Due to limits with the PYNQ-Z2s storage only ___MB of data is tested with apposed to the available 40GB, but this is still ____ test cases. "
   ]
  },
  {
   "cell_type": "code",
   "execution_count": null,
   "id": "4d1c3478",
   "metadata": {},
   "outputs": [],
   "source": [
    "normalized_array, labels = get_data.get_cnn_data()"
   ]
  },
  {
   "cell_type": "code",
   "execution_count": null,
   "id": "e7589a8e",
   "metadata": {},
   "outputs": [
    {
     "name": "stdout",
     "output_type": "stream",
     "text": [
      "(85800, 1, 256)\n",
      "(85800, 4)\n"
     ]
    }
   ],
   "source": [
    "print(normalized_array.shape)\n",
    "print(labels.shape)"
   ]
  },
  {
   "cell_type": "markdown",
   "id": "4f6ecc2d",
   "metadata": {},
   "source": [
    "## Initialise the CNN in Hardware"
   ]
  },
  {
   "cell_type": "markdown",
   "id": "8d983059",
   "metadata": {},
   "source": [
    "The bitfile generated in Vivado contains all the information needed to create the MLP in the programmable logic. The io_shape_dict contains any information about how the data should be formatted for inputs and outputs. The overlay uses the bitfile to instanciate the model in hardware, setting up connections with the DMAs to pass data to it. The model can receive sets of data at up to 100MHz, with an output being produced every 16 sets of input."
   ]
  },
  {
   "cell_type": "code",
   "execution_count": null,
   "id": "3c26de33",
   "metadata": {},
   "outputs": [
    {
     "data": {
      "application/javascript": "\ntry {\nrequire(['notebook/js/codecell'], function(codecell) {\n  codecell.CodeCell.options_default.highlight_modes[\n      'magic_text/x-csrc'] = {'reg':[/^%%microblaze/]};\n  Jupyter.notebook.events.one('kernel_ready.Kernel', function(){\n      Jupyter.notebook.get_cells().map(function(cell){\n          if (cell.cell_type == 'code'){ cell.auto_highlight(); } }) ;\n  });\n});\n} catch (e) {};\n"
     },
     "metadata": {},
     "output_type": "display_data"
    },
    {
     "data": {
      "application/javascript": "\ntry {\nrequire(['notebook/js/codecell'], function(codecell) {\n  codecell.CodeCell.options_default.highlight_modes[\n      'magic_text/x-csrc'] = {'reg':[/^%%pybind11/]};\n  Jupyter.notebook.events.one('kernel_ready.Kernel', function(){\n      Jupyter.notebook.get_cells().map(function(cell){\n          if (cell.cell_type == 'code'){ cell.auto_highlight(); } }) ;\n  });\n});\n} catch (e) {};\n"
     },
     "metadata": {},
     "output_type": "display_data"
    }
   ],
   "source": [
    "bitfile = \"bitfile_cnn/finn-accel.bit\"\n",
    "from driver_cnn.driver import io_shape_dict\n",
    "cnn = FINNExampleOverlay(bitfile, driver_mode, io_shape_dict,fclk_mhz = 100.0)"
   ]
  },
  {
   "cell_type": "markdown",
   "id": "8e76fc70",
   "metadata": {},
   "source": [
    "## Test with a Single Input"
   ]
  },
  {
   "cell_type": "markdown",
   "id": "354c1a60",
   "metadata": {},
   "source": [
    "To test the model receiving and predicting with data a single input is sent to the CNN. The input data is convereted to 8 bit integers as this is what it will receive from the rest of the radio."
   ]
  },
  {
   "cell_type": "code",
   "execution_count": null,
   "id": "af0a8a6e",
   "metadata": {},
   "outputs": [
    {
     "name": "stdout",
     "output_type": "stream",
     "text": [
      "(1, 16, 16, 2)\n",
      "[1. 0. 0. 0.]\n"
     ]
    }
   ],
   "source": [
    "test_single = normalized_array[1].astype(np.int8)\n",
    "test_single_label = labels[1]\n",
    "\n",
    "print(test_single.shape)\n",
    "print(test_single_label)\n"
   ]
  },
  {
   "cell_type": "markdown",
   "id": "d6f8df80",
   "metadata": {},
   "source": [
    "The overlay provides the execute function to format and send data to the programmable logic. It then waits till it receives an output and returns it."
   ]
  },
  {
   "cell_type": "code",
   "execution_count": null,
   "id": "6ecf6ee4",
   "metadata": {},
   "outputs": [],
   "source": [
    "cnn.batch_size = 1\n",
    "accel_out = cnn.execute(test_single)"
   ]
  },
  {
   "cell_type": "markdown",
   "id": "ffe55776",
   "metadata": {},
   "source": [
    "Since the model output is a bipolar rather than binary it uses -1 to represent no user in a channel rather than 0 like with the labels."
   ]
  },
  {
   "cell_type": "code",
   "execution_count": 10,
   "id": "1e8b3f29",
   "metadata": {},
   "outputs": [
    {
     "name": "stdout",
     "output_type": "stream",
     "text": [
      "[[ 1. -1. -1. -1.]]\n"
     ]
    }
   ],
   "source": [
    "print(accel_out)"
   ]
  },
  {
   "cell_type": "markdown",
   "id": "835f7a5d",
   "metadata": {},
   "source": [
    "## Test with All Data"
   ]
  },
  {
   "cell_type": "markdown",
   "id": "66ac8aee",
   "metadata": {},
   "source": [
    "To verify the model is functioning as expected the full available dataset is executed on it. The bipolar outputs are converted to binary and compared with the labels to get the model accuracy."
   ]
  },
  {
   "cell_type": "code",
   "execution_count": null,
   "id": "4f5f526d",
   "metadata": {},
   "outputs": [
    {
     "name": "stdout",
     "output_type": "stream",
     "text": [
      "batch 1 / 20 : total OK 6919 NOK 1661 : accuracy 80.64%\n",
      "batch 2 / 20 : total OK 13699 NOK 3461 : accuracy 79.83%\n",
      "batch 3 / 20 : total OK 20242 NOK 5498 : accuracy 78.64%\n",
      "batch 4 / 20 : total OK 27434 NOK 6886 : accuracy 79.94%\n",
      "batch 5 / 20 : total OK 35641 NOK 7259 : accuracy 83.08%\n",
      "batch 6 / 20 : total OK 44020 NOK 7460 : accuracy 85.51%\n",
      "batch 7 / 20 : total OK 52551 NOK 7509 : accuracy 87.50%\n",
      "batch 8 / 20 : total OK 59175 NOK 9465 : accuracy 86.21%\n",
      "batch 9 / 20 : total OK 65196 NOK 12024 : accuracy 84.43%\n",
      "batch 10 / 20 : total OK 71300 NOK 14500 : accuracy 83.10%\n",
      "batch 11 / 20 : total OK 77601 NOK 16779 : accuracy 82.22%\n",
      "batch 12 / 20 : total OK 86115 NOK 16845 : accuracy 83.64%\n",
      "batch 13 / 20 : total OK 94522 NOK 17018 : accuracy 84.74%\n",
      "batch 14 / 20 : total OK 102656 NOK 17464 : accuracy 85.46%\n",
      "batch 15 / 20 : total OK 108700 NOK 20000 : accuracy 84.46%\n",
      "batch 16 / 20 : total OK 112225 NOK 25055 : accuracy 81.75%\n",
      "batch 17 / 20 : total OK 118901 NOK 26959 : accuracy 81.52%\n",
      "batch 18 / 20 : total OK 127431 NOK 27009 : accuracy 82.51%\n",
      "batch 19 / 20 : total OK 133875 NOK 29145 : accuracy 82.12%\n",
      "batch 20 / 20 : total OK 139868 NOK 31732 : accuracy 81.51%\n",
      "Final accuracy: 81.51%\n"
     ]
    }
   ],
   "source": [
    "batch_size = 2145\n",
    "cnn.batch_size = batch_size\n",
    "(test_imgs, test_labels) = (normalized_array.astype(np.int8),labels)\n",
    "\n",
    "ok = 0\n",
    "nok = 0\n",
    "n_batches = test_imgs.shape[0]//batch_size\n",
    "total = batch_size*n_batches\n",
    "\n",
    "test_imgs = test_imgs.reshape(n_batches,batch_size,16,16,2)\n",
    "test_labels = test_labels.reshape(n_batches,batch_size,4)\n",
    "\n",
    "for i in range(n_batches):\n",
    "    inp = test_imgs[i]\n",
    "    exp = test_labels[i].astype(np.float32)\n",
    "    out = cnn.execute(inp)\n",
    "    out = [(x+1)/2 for x in out.flatten()]\n",
    "    ok += np.count_nonzero(out == exp.flatten())\n",
    "    nok += np.count_nonzero(out != exp.flatten())\n",
    "    acc = 100.0 * ok / (ok+nok)\n",
    "    print(\"batch %d / %d : total OK %d NOK %d : accuracy %.2f%%\" % (i + 1, n_batches, ok, nok,acc))\n",
    "\n",
    "acc = 100.0 * ok / (ok+nok)\n",
    "print(\"Final accuracy: {:.2f}%\".format(acc))"
   ]
  }
 ],
 "metadata": {
  "kernelspec": {
   "display_name": "Python 3 (ipykernel)",
   "language": "python",
   "name": "python3"
  },
  "language_info": {
   "codemirror_mode": {
    "name": "ipython",
    "version": 3
   },
   "file_extension": ".py",
   "mimetype": "text/x-python",
   "name": "python",
   "nbconvert_exporter": "python",
   "pygments_lexer": "ipython3",
   "version": "3.10.4"
  }
 },
 "nbformat": 4,
 "nbformat_minor": 5
}
